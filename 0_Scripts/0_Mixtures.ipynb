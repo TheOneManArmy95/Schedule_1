{
 "cells": [
  {
   "cell_type": "code",
   "execution_count": 3,
   "metadata": {},
   "outputs": [
    {
     "name": "stdout",
     "output_type": "stream",
     "text": [
      "Ingredientes:\n",
      "1 .- Sativa\n",
      "2 .- chilita\n",
      "3 .- fasd\n",
      "4 .- tef\n",
      "Combinations:\n",
      "1 .- ('Sativa', 'chilita', 'fasd', 'tef')\n"
     ]
    }
   ],
   "source": [
    "from itertools import combinations\n",
    "\n",
    "def PossibleMixtures(size,*args):\n",
    "    ingredients=[]\n",
    "    print('Ingredientes:')\n",
    "    counter=0\n",
    "    for arg in args:\n",
    "        counter+=1\n",
    "        print(counter,'.-',arg)\n",
    "        ingredients.append(arg)\n",
    "    combs=list(combinations(ingredients,size))\n",
    "    print('Combinations:')\n",
    "    counter=0\n",
    "    for c in combs:\n",
    "        counter+=1\n",
    "        print(counter,'.-',c)\n",
    "\n",
    "\n",
    "    \n",
    "\n",
    "\n",
    "PossibleMixtures(4,'Sativa','chilita','fasd','tef')"
   ]
  }
 ],
 "metadata": {
  "kernelspec": {
   "display_name": "ds1",
   "language": "python",
   "name": "python3"
  },
  "language_info": {
   "codemirror_mode": {
    "name": "ipython",
    "version": 3
   },
   "file_extension": ".py",
   "mimetype": "text/x-python",
   "name": "python",
   "nbconvert_exporter": "python",
   "pygments_lexer": "ipython3",
   "version": "3.13.2"
  }
 },
 "nbformat": 4,
 "nbformat_minor": 2
}
